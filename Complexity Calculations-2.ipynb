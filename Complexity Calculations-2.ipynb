{
 "cells": [
  {
   "cell_type": "code",
   "execution_count": 1,
   "metadata": {},
   "outputs": [],
   "source": [
    "def twoForLoops(n:int):\n",
    "    for i in range(1,n):\n",
    "        print(\"Printing %i\" %i)\n",
    "        \n",
    "    for i in range(1,101):\n",
    "        print(\"Printing %i\" %i)"
   ]
  },
  {
   "cell_type": "code",
   "execution_count": 2,
   "metadata": {},
   "outputs": [
    {
     "name": "stdout",
     "output_type": "stream",
     "text": [
      "Printing 1\n",
      "Printing 2\n",
      "Printing 3\n",
      "Printing 4\n",
      "Printing 5\n",
      "Printing 1\n",
      "Printing 2\n",
      "Printing 3\n",
      "Printing 4\n",
      "Printing 5\n",
      "Printing 6\n",
      "Printing 7\n",
      "Printing 8\n",
      "Printing 9\n",
      "Printing 10\n",
      "Printing 11\n",
      "Printing 12\n",
      "Printing 13\n",
      "Printing 14\n",
      "Printing 15\n",
      "Printing 16\n",
      "Printing 17\n",
      "Printing 18\n",
      "Printing 19\n",
      "Printing 20\n",
      "Printing 21\n",
      "Printing 22\n",
      "Printing 23\n",
      "Printing 24\n",
      "Printing 25\n",
      "Printing 26\n",
      "Printing 27\n",
      "Printing 28\n",
      "Printing 29\n",
      "Printing 30\n",
      "Printing 31\n",
      "Printing 32\n",
      "Printing 33\n",
      "Printing 34\n",
      "Printing 35\n",
      "Printing 36\n",
      "Printing 37\n",
      "Printing 38\n",
      "Printing 39\n",
      "Printing 40\n",
      "Printing 41\n",
      "Printing 42\n",
      "Printing 43\n",
      "Printing 44\n",
      "Printing 45\n",
      "Printing 46\n",
      "Printing 47\n",
      "Printing 48\n",
      "Printing 49\n",
      "Printing 50\n",
      "Printing 51\n",
      "Printing 52\n",
      "Printing 53\n",
      "Printing 54\n",
      "Printing 55\n",
      "Printing 56\n",
      "Printing 57\n",
      "Printing 58\n",
      "Printing 59\n",
      "Printing 60\n",
      "Printing 61\n",
      "Printing 62\n",
      "Printing 63\n",
      "Printing 64\n",
      "Printing 65\n",
      "Printing 66\n",
      "Printing 67\n",
      "Printing 68\n",
      "Printing 69\n",
      "Printing 70\n",
      "Printing 71\n",
      "Printing 72\n",
      "Printing 73\n",
      "Printing 74\n",
      "Printing 75\n",
      "Printing 76\n",
      "Printing 77\n",
      "Printing 78\n",
      "Printing 79\n",
      "Printing 80\n",
      "Printing 81\n",
      "Printing 82\n",
      "Printing 83\n",
      "Printing 84\n",
      "Printing 85\n",
      "Printing 86\n",
      "Printing 87\n",
      "Printing 88\n",
      "Printing 89\n",
      "Printing 90\n",
      "Printing 91\n",
      "Printing 92\n",
      "Printing 93\n",
      "Printing 94\n",
      "Printing 95\n",
      "Printing 96\n",
      "Printing 97\n",
      "Printing 98\n",
      "Printing 99\n",
      "Printing 100\n"
     ]
    }
   ],
   "source": [
    "twoForLoops(6)"
   ]
  },
  {
   "cell_type": "code",
   "execution_count": 3,
   "metadata": {},
   "outputs": [],
   "source": [
    "def twoForLoopsNM(n:int, m:int):\n",
    "    for i in range(1,n):\n",
    "        print(\"Printing %i\" %i)\n",
    "        \n",
    "    for i in range(1,m):\n",
    "        print(\"Printing %i\" %i)"
   ]
  },
  {
   "cell_type": "code",
   "execution_count": 4,
   "metadata": {},
   "outputs": [
    {
     "name": "stdout",
     "output_type": "stream",
     "text": [
      "Printing 1\n",
      "Printing 2\n",
      "Printing 3\n",
      "Printing 1\n",
      "Printing 2\n",
      "Printing 3\n",
      "Printing 4\n",
      "Printing 5\n"
     ]
    }
   ],
   "source": [
    "twoForLoopsNM(4,6)"
   ]
  },
  {
   "cell_type": "code",
   "execution_count": 5,
   "metadata": {},
   "outputs": [],
   "source": [
    "def twoForLoopsNAndM(n:int, m:int):\n",
    "    for i in range(1,n):\n",
    "        for j in range(1,m):\n",
    "            print(\"Printing %i\" %(i*j))\n",
    "\n",
    "\n",
    "          "
   ]
  },
  {
   "cell_type": "code",
   "execution_count": 6,
   "metadata": {},
   "outputs": [
    {
     "name": "stdout",
     "output_type": "stream",
     "text": [
      "Printing 1\n",
      "Printing 2\n",
      "Printing 3\n",
      "Printing 4\n",
      "Printing 2\n",
      "Printing 4\n",
      "Printing 6\n",
      "Printing 8\n"
     ]
    }
   ],
   "source": [
    "twoForLoopsNAndM(3,5)"
   ]
  },
  {
   "cell_type": "markdown",
   "metadata": {},
   "source": [
    "### Order of N O(n^2 + N)"
   ]
  },
  {
   "cell_type": "code",
   "execution_count": 7,
   "metadata": {},
   "outputs": [],
   "source": [
    "def twoForLoopsNestedAndNonNested(n:int):\n",
    "    for i in range(1,n):\n",
    "        for j in range(1,n):\n",
    "            print(\"The product of %i and %i is %i\" %(i,j,i*j))\n",
    "        \n",
    "    for i in range(1,n):\n",
    "        print(\"Printing %i\" %i)"
   ]
  },
  {
   "cell_type": "code",
   "execution_count": 8,
   "metadata": {},
   "outputs": [
    {
     "name": "stdout",
     "output_type": "stream",
     "text": [
      "The product of 1 and 1 is 1\n",
      "The product of 1 and 2 is 2\n",
      "The product of 1 and 3 is 3\n",
      "The product of 1 and 4 is 4\n",
      "The product of 1 and 5 is 5\n",
      "The product of 2 and 1 is 2\n",
      "The product of 2 and 2 is 4\n",
      "The product of 2 and 3 is 6\n",
      "The product of 2 and 4 is 8\n",
      "The product of 2 and 5 is 10\n",
      "The product of 3 and 1 is 3\n",
      "The product of 3 and 2 is 6\n",
      "The product of 3 and 3 is 9\n",
      "The product of 3 and 4 is 12\n",
      "The product of 3 and 5 is 15\n",
      "The product of 4 and 1 is 4\n",
      "The product of 4 and 2 is 8\n",
      "The product of 4 and 3 is 12\n",
      "The product of 4 and 4 is 16\n",
      "The product of 4 and 5 is 20\n",
      "The product of 5 and 1 is 5\n",
      "The product of 5 and 2 is 10\n",
      "The product of 5 and 3 is 15\n",
      "The product of 5 and 4 is 20\n",
      "The product of 5 and 5 is 25\n",
      "Printing 1\n",
      "Printing 2\n",
      "Printing 3\n",
      "Printing 4\n",
      "Printing 5\n"
     ]
    }
   ],
   "source": [
    "twoForLoopsNestedAndNonNested(6)"
   ]
  },
  {
   "cell_type": "markdown",
   "metadata": {},
   "source": [
    "### Order of N O(N^2)"
   ]
  },
  {
   "cell_type": "code",
   "execution_count": 9,
   "metadata": {},
   "outputs": [],
   "source": [
    "def twoForLoopsNotCompletelyStraightForward(n:int):\n",
    "    for i in range(1,n):\n",
    "        for j in range(n//2,0,-1):\n",
    "            print(\"Value of i is %i and j is %i\" %(i,j))\n",
    "    "
   ]
  },
  {
   "cell_type": "code",
   "execution_count": 10,
   "metadata": {},
   "outputs": [
    {
     "name": "stdout",
     "output_type": "stream",
     "text": [
      "Value of i is 1 and j is 3\n",
      "Value of i is 1 and j is 2\n",
      "Value of i is 1 and j is 1\n",
      "Value of i is 2 and j is 3\n",
      "Value of i is 2 and j is 2\n",
      "Value of i is 2 and j is 1\n",
      "Value of i is 3 and j is 3\n",
      "Value of i is 3 and j is 2\n",
      "Value of i is 3 and j is 1\n",
      "Value of i is 4 and j is 3\n",
      "Value of i is 4 and j is 2\n",
      "Value of i is 4 and j is 1\n",
      "Value of i is 5 and j is 3\n",
      "Value of i is 5 and j is 2\n",
      "Value of i is 5 and j is 1\n",
      "Value of i is 6 and j is 3\n",
      "Value of i is 6 and j is 2\n",
      "Value of i is 6 and j is 1\n"
     ]
    }
   ],
   "source": [
    "twoForLoopsNotCompletelyStraightForward(7)"
   ]
  },
  {
   "cell_type": "code",
   "execution_count": 11,
   "metadata": {},
   "outputs": [],
   "source": [
    "def doublingLoopVariable(n:int):\n",
    "    i = 1\n",
    "    while(i < n): \n",
    "        print(\"Value of i  is %i\" %i )\n",
    "        i = i * 2\n",
    "        "
   ]
  },
  {
   "cell_type": "code",
   "execution_count": 12,
   "metadata": {},
   "outputs": [
    {
     "name": "stdout",
     "output_type": "stream",
     "text": [
      "Value of i  is 1\n",
      "Value of i  is 2\n",
      "Value of i  is 4\n",
      "Value of i  is 8\n",
      "Value of i  is 16\n",
      "Value of i  is 32\n",
      "Value of i  is 64\n",
      "Value of i  is 128\n",
      "Value of i  is 256\n",
      "Value of i  is 512\n",
      "Value of i  is 1024\n",
      "Value of i  is 2048\n",
      "Value of i  is 4096\n",
      "Value of i  is 8192\n"
     ]
    }
   ],
   "source": [
    "doublingLoopVariable(10000)"
   ]
  },
  {
   "cell_type": "code",
   "execution_count": 13,
   "metadata": {},
   "outputs": [],
   "source": [
    "def halvingLoopVariable(n:int):\n",
    "    i = n\n",
    "    while(i > 0):\n",
    "        print(\"Value of i  is %i\" %i )\n",
    "        i = i//2\n",
    "    \n",
    "    "
   ]
  },
  {
   "cell_type": "code",
   "execution_count": 14,
   "metadata": {},
   "outputs": [
    {
     "name": "stdout",
     "output_type": "stream",
     "text": [
      "Value of i  is 10000\n",
      "Value of i  is 5000\n",
      "Value of i  is 2500\n",
      "Value of i  is 1250\n",
      "Value of i  is 625\n",
      "Value of i  is 312\n",
      "Value of i  is 156\n",
      "Value of i  is 78\n",
      "Value of i  is 39\n",
      "Value of i  is 19\n",
      "Value of i  is 9\n",
      "Value of i  is 4\n",
      "Value of i  is 2\n",
      "Value of i  is 1\n"
     ]
    }
   ],
   "source": [
    "halvingLoopVariable(10000)"
   ]
  },
  {
   "cell_type": "code",
   "execution_count": null,
   "metadata": {},
   "outputs": [],
   "source": []
  }
 ],
 "metadata": {
  "kernelspec": {
   "display_name": "Python 3",
   "language": "python",
   "name": "python3"
  },
  "language_info": {
   "codemirror_mode": {
    "name": "ipython",
    "version": 3
   },
   "file_extension": ".py",
   "mimetype": "text/x-python",
   "name": "python",
   "nbconvert_exporter": "python",
   "pygments_lexer": "ipython3",
   "version": "3.7.3"
  }
 },
 "nbformat": 4,
 "nbformat_minor": 2
}
