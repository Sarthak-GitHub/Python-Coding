{
 "cells": [
  {
   "cell_type": "markdown",
   "metadata": {},
   "source": [
    "### Basic Questions on Python\n",
    "***"
   ]
  },
  {
   "cell_type": "markdown",
   "metadata": {},
   "source": [
    "**Question 1. Write an program for square of number from 1 to than number using for loop. take input from user in 'num' and save the output in dictionary names as 'dict1'**"
   ]
  },
  {
   "cell_type": "code",
   "execution_count": 3,
   "metadata": {},
   "outputs": [
    {
     "name": "stdout",
     "output_type": "stream",
     "text": [
      "5\n",
      "The dict1 is :  {1: 1, 2: 4, 3: 9, 4: 16, 5: 25}\n"
     ]
    }
   ],
   "source": [
    "num = int(input())\n",
    "dict1 = dict()\n",
    "for i in range(1,num+1):\n",
    "    dict1[i]=i*i\n",
    "\n",
    "print(\"The dict1 is : \", dict1)"
   ]
  },
  {
   "cell_type": "markdown",
   "metadata": {},
   "source": [
    "**Question 2. Python program to find the multiplication table of 10 Using for loop**"
   ]
  },
  {
   "cell_type": "code",
   "execution_count": 5,
   "metadata": {},
   "outputs": [
    {
     "name": "stdout",
     "output_type": "stream",
     "text": [
      "10 x 1 = 10\n",
      "10 x 2 = 20\n",
      "10 x 3 = 30\n",
      "10 x 4 = 40\n",
      "10 x 5 = 50\n",
      "10 x 6 = 60\n",
      "10 x 7 = 70\n",
      "10 x 8 = 80\n",
      "10 x 9 = 90\n",
      "10 x 10 = 100\n"
     ]
    }
   ],
   "source": [
    "num = 10\n",
    "\n",
    "# num = int(input(\"Display multiplication table of? \"))\n",
    "\n",
    "# using for loop to iterate 10 times\n",
    "for i in range(1, 11):\n",
    "    print(num,'x',i,'=',num*i)"
   ]
  },
  {
   "cell_type": "markdown",
   "metadata": {},
   "source": [
    "**Question 3. Python program to find sum of elements in list using for loop**"
   ]
  },
  {
   "cell_type": "code",
   "execution_count": 7,
   "metadata": {},
   "outputs": [
    {
     "name": "stdout",
     "output_type": "stream",
     "text": [
      "Sum of all elements in given list :  8177\n"
     ]
    }
   ],
   "source": [
    "total = 0\n",
    "\n",
    "items = [45,890,4532,65,43,56,234,874,529,120,789]\n",
    "\n",
    "for i in range(0,len(items)):\n",
    "    total = total + items[i]\n",
    "\n",
    "print(\"Sum of all elements in given list : \", total)"
   ]
  },
  {
   "cell_type": "markdown",
   "metadata": {},
   "source": [
    "**Question 4. Create a tuple with some elements and print no. of elements in tuple and create a sentence using elements in tuple and some strings**\n",
    "**Hint: Apply Tuple Unpacking**"
   ]
  },
  {
   "cell_type": "code",
   "execution_count": 9,
   "metadata": {},
   "outputs": [
    {
     "name": "stdout",
     "output_type": "stream",
     "text": [
      "tup_count : 4\n",
      "Student name  Sarthak his age is  20 and he is from  Mumbai doing course of DSE FT BLR June 20\n"
     ]
    }
   ],
   "source": [
    "student = ('Sarthak', 20, 'Mumbai', 'DSE FT BLR June 20')\n",
    "\n",
    "print(\"tup_count :\", len(student))\n",
    "\n",
    "s_name, s_age, s_city, s_course = student\n",
    "\n",
    "print('Student name ', s_name, 'his age is ', s_age, 'and he is from ', s_city, 'doing course of', s_course)"
   ]
  },
  {
   "cell_type": "markdown",
   "metadata": {},
   "source": [
    "**Question 5**"
   ]
  },
  {
   "cell_type": "code",
   "execution_count": null,
   "metadata": {},
   "outputs": [],
   "source": [
    "#a) creating dictionary as colors\n",
    "colors = {\n",
    "    'col1' : 'Red',\n",
    "    'col2' : 'Blue',\n",
    "    'col3' : 'Yellow'\n",
    "}"
   ]
  },
  {
   "cell_type": "code",
   "execution_count": null,
   "metadata": {},
   "outputs": [],
   "source": [
    "#b) Add another key col4 into the colors Dictionary having value as Green\n",
    "colors['col4'] = 'Green'"
   ]
  },
  {
   "cell_type": "code",
   "execution_count": null,
   "metadata": {},
   "outputs": [],
   "source": [
    "print(colors)"
   ]
  },
  {
   "cell_type": "code",
   "execution_count": null,
   "metadata": {},
   "outputs": [],
   "source": [
    "#c) Update the col2 values as Orange\n",
    "colors.update({'col2':'Orange'})\n",
    "print(colors)"
   ]
  },
  {
   "cell_type": "code",
   "execution_count": null,
   "metadata": {},
   "outputs": [],
   "source": [
    "#d) Print the dictionary on the screen\n",
    "print('Dictionary is :', colors)"
   ]
  },
  {
   "cell_type": "code",
   "execution_count": null,
   "metadata": {},
   "outputs": [],
   "source": [
    "#e) Remove all the elements from the Dictionary colors and print its content on the screen.\n",
    "colors = {\n",
    "    'col1' : 'Red',\n",
    "    'col2' : 'Blue',\n",
    "    'col3' : 'Yellow'\n",
    "}\n",
    "\n",
    "colors.clear()\n",
    "\n",
    "print(colors)\n"
   ]
  },
  {
   "cell_type": "markdown",
   "metadata": {},
   "source": [
    "**Question 6. Using range() function, make a list containing all the prime numbers between 1 to 100**"
   ]
  },
  {
   "cell_type": "code",
   "execution_count": 10,
   "metadata": {},
   "outputs": [
    {
     "name": "stdout",
     "output_type": "stream",
     "text": [
      " 2   3   5   7   11   13   17   19   23   29   31   37   41   43   47   53   59   61   67   71   73   79   83   89   97  "
     ]
    }
   ],
   "source": [
    "for Numbers in range (1, 101):\n",
    "    count = 0\n",
    "    for i in range(2, (Numbers//2 + 1)):\n",
    "        if(Numbers % i == 0):\n",
    "            count = count + 1\n",
    "            break\n",
    "\n",
    "    if (count == 0 and Numbers != 1):\n",
    "        print(\" %d\" %Numbers, end = '  ')"
   ]
  },
  {
   "cell_type": "markdown",
   "metadata": {},
   "source": [
    "**Question 7.  Write a function called ftn_count_upper_lower that accepts string, calculate the number of uppercase and lowercase letters.**"
   ]
  },
  {
   "cell_type": "code",
   "execution_count": null,
   "metadata": {},
   "outputs": [],
   "source": [
    "def ftn_count_upper_lower(x):\n",
    "    count={\"UPPER_CASE\":0, \"LOWER_CASE\":0}\n",
    "    for a in x:\n",
    "        if a.isupper():\n",
    "            count[\"UPPER_CASE\"]+=1\n",
    "        elif a.islower():\n",
    "            count[\"LOWER_CASE\"]+=1\n",
    "        else :\n",
    "            pass\n",
    "    print (\"Original String : \", x)\n",
    "    print (\"No. of Uppercase characters : \", count[\"UPPER_CASE\"])\n",
    "    print (\"No. of Lowercase Characters : \", count[\"LOWER_CASE\"])\n",
    "\n",
    "ftn_count_upper_lower('The black Bread For')"
   ]
  },
  {
   "cell_type": "markdown",
   "metadata": {},
   "source": [
    "**Question 8. Write to get finbonacci term of n. With initial numbers as 0 and 1.**"
   ]
  },
  {
   "cell_type": "code",
   "execution_count": 11,
   "metadata": {},
   "outputs": [],
   "source": [
    "def fibonacci(n): \n",
    "    a = 0\n",
    "    b = 1\n",
    "    if n < 0: \n",
    "        print(\"Incorrect input\") \n",
    "    elif n == 0: \n",
    "        return a \n",
    "    elif n == 1: \n",
    "        return b \n",
    "    else: \n",
    "        for i in range(2,n): \n",
    "            c = a + b \n",
    "            a = b \n",
    "            b = c \n",
    "        return b \n",
    "        print(fibonacci()) "
   ]
  },
  {
   "cell_type": "code",
   "execution_count": 12,
   "metadata": {},
   "outputs": [
    {
     "data": {
      "text/plain": [
       "5"
      ]
     },
     "execution_count": 12,
     "metadata": {},
     "output_type": "execute_result"
    }
   ],
   "source": [
    "fibonacci(6)"
   ]
  },
  {
   "cell_type": "markdown",
   "metadata": {},
   "source": [
    "**Question 9. If string has word having length greater than 4, then capitalize it and save it in a different list. If not, then lower the case od word and save it in different list.**"
   ]
  },
  {
   "cell_type": "code",
   "execution_count": 22,
   "metadata": {},
   "outputs": [
    {
     "name": "stdout",
     "output_type": "stream",
     "text": [
      "['THERE', 'ARTHUR', 'GREAT']\n",
      "['once', 'upon', 'a', 'time', 'was', 'a', 'king', 'his', 'name', 'was', 'he', 'was', 'a', 'king']\n"
     ]
    }
   ],
   "source": [
    "s = \"Once upon a time there was a king. His name was Arthur. He was a great king.\"\n",
    "\n",
    "s = s.replace('.','')\n",
    "s_1 = s.split()\n",
    "\n",
    "gre_4 = []\n",
    "les_4 = []\n",
    "\n",
    "for x in s_1:\n",
    "    if (len(x) > 4):\n",
    "        gre_4.append(x.upper())\n",
    "    else:\n",
    "        les_4.append(x.lower())\n",
    "    \n",
    "    \n",
    "print(gre_4)\n",
    "print(les_4)"
   ]
  },
  {
   "cell_type": "markdown",
   "metadata": {},
   "source": [
    "## Thank You! Happy Learning!"
   ]
  }
 ],
 "metadata": {
  "kernelspec": {
   "display_name": "Python 3",
   "language": "python",
   "name": "python3"
  },
  "language_info": {
   "codemirror_mode": {
    "name": "ipython",
    "version": 3
   },
   "file_extension": ".py",
   "mimetype": "text/x-python",
   "name": "python",
   "nbconvert_exporter": "python",
   "pygments_lexer": "ipython3",
   "version": "3.8.3"
  }
 },
 "nbformat": 4,
 "nbformat_minor": 2
}
