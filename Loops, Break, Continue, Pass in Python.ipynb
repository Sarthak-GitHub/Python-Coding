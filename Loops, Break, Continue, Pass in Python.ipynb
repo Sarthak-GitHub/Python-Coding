{
 "cells": [
  {
   "cell_type": "markdown",
   "metadata": {},
   "source": [
    "## For Loop \n",
    "***\n",
    "The for loop in Python is used to iterate over a sequence (list, tuple, string) or other iterable objects. Iterating over a sequence is called traversal."
   ]
  },
  {
   "cell_type": "raw",
   "metadata": {},
   "source": [
    "#Syntax\n",
    "for val in sequence:\n",
    "    Body of for"
   ]
  },
  {
   "cell_type": "code",
   "execution_count": 6,
   "metadata": {},
   "outputs": [
    {
     "name": "stdout",
     "output_type": "stream",
     "text": [
      "The sum is 48\n"
     ]
    }
   ],
   "source": [
    "# Program to find the sum of all numbers stored in a list\n",
    "\n",
    "# List of numbers\n",
    "numbers = [6, 5, 3, 8, 4, 2, 5, 4, 11]\n",
    "\n",
    "# variable to store the sum\n",
    "sum = 0\n",
    "\n",
    "# iterate over the list\n",
    "for val in numbers:\n",
    "    sum = sum+val\n",
    "\n",
    "# Output: The sum is 48\n",
    "print(\"The sum is\", sum)"
   ]
  },
  {
   "cell_type": "code",
   "execution_count": 7,
   "metadata": {},
   "outputs": [
    {
     "name": "stdout",
     "output_type": "stream",
     "text": [
      "Google\n",
      "Apple\n",
      "Facebook\n",
      "Uber\n",
      "Intel\n"
     ]
    }
   ],
   "source": [
    "tech_companies = ['Google', 'Apple', 'Facebook', 'Uber', 'Intel']\n",
    "\n",
    "for company in tech_companies:\n",
    "    print(company)"
   ]
  },
  {
   "cell_type": "code",
   "execution_count": 8,
   "metadata": {},
   "outputs": [
    {
     "name": "stdout",
     "output_type": "stream",
     "text": [
      "97\n",
      "35\n",
      "65\n",
      "73\n"
     ]
    }
   ],
   "source": [
    "math_scores = {\n",
    "    \"Ram\" : 97,\n",
    "    \"Kumar\" : 35,\n",
    "    \"Kishan\" : 65,\n",
    "    \"Natasha\" : 73\n",
    "}\n",
    "\n",
    "for val in math_scores.values():\n",
    "    print(val)"
   ]
  },
  {
   "cell_type": "code",
   "execution_count": 9,
   "metadata": {},
   "outputs": [
    {
     "name": "stdout",
     "output_type": "stream",
     "text": [
      "Key:  Ram 97\n",
      "Key:  Kumar 35\n",
      "Key:  Kishan 65\n",
      "Key:  Natasha 73\n"
     ]
    }
   ],
   "source": [
    "for key in math_scores:\n",
    "    print('Key: ', key, math_scores[key])"
   ]
  },
  {
   "cell_type": "code",
   "execution_count": 10,
   "metadata": {},
   "outputs": [
    {
     "name": "stdout",
     "output_type": "stream",
     "text": [
      "Ram 97\n",
      "Kumar 35\n",
      "Kishan 65\n",
      "Natasha 73\n"
     ]
    }
   ],
   "source": [
    "for key, value in math_scores.items():\n",
    "    print(key, value)"
   ]
  },
  {
   "cell_type": "code",
   "execution_count": 11,
   "metadata": {},
   "outputs": [
    {
     "name": "stdout",
     "output_type": "stream",
     "text": [
      "The current value of total is:  10\n",
      "The current value of total is:  30\n",
      "The current value of total is:  60\n",
      "The current value of total is:  100\n",
      "The current value of total is:  150\n"
     ]
    }
   ],
   "source": [
    "some_numbers = [10, 20, 30, 40, 50]\n",
    "\n",
    "total = 0\n",
    "\n",
    "for num in some_numbers:\n",
    "    total = total + num\n",
    "    print('The current value of total is: ', total)"
   ]
  },
  {
   "cell_type": "code",
   "execution_count": 12,
   "metadata": {},
   "outputs": [
    {
     "name": "stdout",
     "output_type": "stream",
     "text": [
      "Total length of the array is:  5\n"
     ]
    }
   ],
   "source": [
    "count = 0\n",
    "\n",
    "for num in some_numbers:\n",
    "    count = count + 1\n",
    "    \n",
    "print('Total length of the array is: ', count)"
   ]
  },
  {
   "cell_type": "code",
   "execution_count": null,
   "metadata": {},
   "outputs": [],
   "source": []
  },
  {
   "cell_type": "markdown",
   "metadata": {},
   "source": [
    "## While Loop\n",
    "***\n",
    "1.The while loop in Python is used to iterate over a block of code as long as the test expression (condition) is true.\n",
    "\n",
    "2.We generally use this loop when we don't know beforehand, the number of times to iterate.\n",
    "\n",
    "3.Python interprets any non-zero value as True. None and 0 are interpreted as False."
   ]
  },
  {
   "cell_type": "markdown",
   "metadata": {},
   "source": [
    "**Syntax of while Loop in Python**"
   ]
  },
  {
   "cell_type": "raw",
   "metadata": {},
   "source": [
    "while test_expression:\n",
    "    Body of while"
   ]
  },
  {
   "cell_type": "code",
   "execution_count": 2,
   "metadata": {},
   "outputs": [
    {
     "name": "stdout",
     "output_type": "stream",
     "text": [
      "Enter n: 5\n",
      "The sum is 15\n"
     ]
    }
   ],
   "source": [
    "# Program to add natural\n",
    "# numbers upto \n",
    "# sum = 1+2+3+...+n\n",
    "\n",
    "# To take input from the user,\n",
    "n = int(input(\"Enter n: \"))\n",
    "\n",
    "#n = 10\n",
    "\n",
    "# initialize sum and counter\n",
    "sum = 0\n",
    "i = 1\n",
    "\n",
    "while i <= n:\n",
    "    sum = sum + i\n",
    "    i = i+1    # update counter\n",
    "\n",
    "# print the sum\n",
    "print(\"The sum is\", sum)"
   ]
  },
  {
   "cell_type": "raw",
   "metadata": {},
   "source": [
    "# do not run this code\n",
    "#This will cause an infinite loop , press the stop button on the menu bar\n",
    "count = 4\n",
    "\n",
    "while count<5:\n",
    "    print(count)"
   ]
  },
  {
   "cell_type": "code",
   "execution_count": 3,
   "metadata": {},
   "outputs": [
    {
     "name": "stdout",
     "output_type": "stream",
     "text": [
      "Google\n",
      "Apple\n",
      "Facebook\n",
      "Uber\n",
      "Intel\n"
     ]
    }
   ],
   "source": [
    "tech_companies = ['Google', 'Apple', 'Facebook', 'Uber', 'Intel']\n",
    "\n",
    "list_len = len(tech_companies)\n",
    "\n",
    "count = 0\n",
    "\n",
    "while count < list_len:\n",
    "    print(tech_companies[count])\n",
    "    \n",
    "    count = count + 1"
   ]
  },
  {
   "cell_type": "code",
   "execution_count": 4,
   "metadata": {},
   "outputs": [
    {
     "name": "stdout",
     "output_type": "stream",
     "text": [
      "0 10\n",
      "1 8\n",
      "2 6\n",
      "Final count values  3 4\n"
     ]
    }
   ],
   "source": [
    "# this is my most liked code to inderstand the while loop \n",
    "inc_count = 0\n",
    "dec_count = 10\n",
    "\n",
    "while inc_count > 5 or dec_count > 5:\n",
    "    print(inc_count, dec_count)\n",
    "    \n",
    "    inc_count = inc_count + 1\n",
    "    dec_count = dec_count - 2\n",
    "    \n",
    "print('Final count values ', inc_count, dec_count)"
   ]
  },
  {
   "cell_type": "markdown",
   "metadata": {},
   "source": [
    "**While loop with else**\n",
    "\n",
    "1.Same as that of for loop, we can have an optional else block with while loop as well.\n",
    "\n",
    "2.The else part is executed if the condition in the while loop evaluates to False"
   ]
  },
  {
   "cell_type": "code",
   "execution_count": 5,
   "metadata": {},
   "outputs": [
    {
     "name": "stdout",
     "output_type": "stream",
     "text": [
      "Inside loop\n",
      "Inside loop\n",
      "Inside loop\n",
      "Inside else\n"
     ]
    }
   ],
   "source": [
    "# Example to illustrate\n",
    "# the use of else statement\n",
    "# with the while loop\n",
    "\n",
    "counter = 0\n",
    "\n",
    "while counter < 3:\n",
    "    print(\"Inside loop\")\n",
    "    counter = counter + 1\n",
    "else:\n",
    "    print(\"Inside else\")"
   ]
  },
  {
   "cell_type": "markdown",
   "metadata": {},
   "source": [
    "## Break and Continue in Python\n",
    "***\n",
    "1.In Python, break and continue statements can alter the flow of a normal loop.\n",
    "\n",
    "2.Loops iterate over a block of code until test expression is false, but sometimes we wish to terminate the current iteration or even the whole loop without checking test expression.\n",
    "\n",
    "3.The break and continue statements are used in these cases."
   ]
  },
  {
   "cell_type": "markdown",
   "metadata": {},
   "source": [
    "**Break Statements**"
   ]
  },
  {
   "cell_type": "code",
   "execution_count": 13,
   "metadata": {},
   "outputs": [
    {
     "name": "stdout",
     "output_type": "stream",
     "text": [
      "p\n",
      "y\n",
      "t\n",
      "h\n",
      "o\n",
      "The end\n"
     ]
    }
   ],
   "source": [
    "# Use of break statement inside loop\n",
    "\n",
    "for val in \"python\":\n",
    "    if val == \"n\":\n",
    "        break\n",
    "    print(val)\n",
    "\n",
    "print(\"The end\")"
   ]
  },
  {
   "cell_type": "code",
   "execution_count": 14,
   "metadata": {},
   "outputs": [
    {
     "name": "stdout",
     "output_type": "stream",
     "text": [
      "0\n"
     ]
    }
   ],
   "source": [
    "for i in range(5):\n",
    "    print(i)\n",
    "    break"
   ]
  },
  {
   "cell_type": "code",
   "execution_count": 15,
   "metadata": {},
   "outputs": [
    {
     "name": "stdout",
     "output_type": "stream",
     "text": [
      "0\n",
      "1\n",
      "2\n",
      "3\n"
     ]
    }
   ],
   "source": [
    "for i in range(5):\n",
    "    print(i)\n",
    "    if i == 3:\n",
    "        break"
   ]
  },
  {
   "cell_type": "code",
   "execution_count": 16,
   "metadata": {},
   "outputs": [
    {
     "name": "stdout",
     "output_type": "stream",
     "text": [
      "0\n",
      "1\n",
      "2\n",
      "3\n",
      "4\n",
      "5\n",
      "6\n"
     ]
    }
   ],
   "source": [
    "for i in range(10):\n",
    "    print(i)\n",
    "    if i > 5:\n",
    "        break"
   ]
  },
  {
   "cell_type": "code",
   "execution_count": 17,
   "metadata": {},
   "outputs": [
    {
     "name": "stdout",
     "output_type": "stream",
     "text": [
      "Google\n",
      "Apple\n",
      "Facebook\n",
      "Uber\n",
      "This company is not listed yet:  Uber\n"
     ]
    }
   ],
   "source": [
    "for company in tech_companies:\n",
    "    print(company)\n",
    "    if company == 'Uber':\n",
    "        print('This company is not listed yet: ', company)\n",
    "        break"
   ]
  },
  {
   "cell_type": "markdown",
   "metadata": {},
   "source": [
    "**Python continue statement**\n",
    "\n",
    "The continue statement is used to skip the rest of the code inside a loop for the current iteration only. Loop does not terminate but continues on with the next iteration."
   ]
  },
  {
   "cell_type": "code",
   "execution_count": 19,
   "metadata": {},
   "outputs": [
    {
     "name": "stdout",
     "output_type": "stream",
     "text": [
      "p\n",
      "y\n",
      "Hi\n",
      "h\n",
      "o\n",
      "n\n",
      "The end\n"
     ]
    }
   ],
   "source": [
    "# Program to show the use of continue statement inside loops\n",
    "\n",
    "for val in \"python\":\n",
    "    if val == \"t\":\n",
    "        print('Hi')\n",
    "        continue\n",
    "        print('Hello')\n",
    "    print(val)\n",
    "\n",
    "print(\"The end\")"
   ]
  },
  {
   "cell_type": "code",
   "execution_count": 20,
   "metadata": {},
   "outputs": [
    {
     "name": "stdout",
     "output_type": "stream",
     "text": [
      "Google\n",
      "Apple\n",
      "Facebook\n",
      "This copany is not listed yet\n",
      "Intel\n"
     ]
    }
   ],
   "source": [
    "for company in tech_companies:\n",
    "    if company == 'Uber':\n",
    "        print('This copany is not listed yet')\n",
    "        continue\n",
    "    print(company)"
   ]
  },
  {
   "cell_type": "code",
   "execution_count": 21,
   "metadata": {},
   "outputs": [
    {
     "name": "stdout",
     "output_type": "stream",
     "text": [
      "\n",
      "Before continue statement:  1\n",
      "After continue statement:  1\n",
      "\n",
      "Before continue statement:  2\n",
      "\n",
      "Before continue statement:  3\n",
      "After continue statement:  3\n",
      "\n",
      "Before continue statement:  4\n",
      "\n",
      "Before continue statement:  5\n",
      "After continue statement:  5\n",
      "\n",
      "Before continue statement:  6\n",
      "\n",
      "Before continue statement:  7\n",
      "After continue statement:  7\n"
     ]
    }
   ],
   "source": [
    "for i in range(1,8):\n",
    "    print()\n",
    "    print('Before continue statement: ', i)\n",
    "    if i % 2 == 0:\n",
    "        continue\n",
    "    print('After continue statement: ', i)"
   ]
  },
  {
   "cell_type": "markdown",
   "metadata": {},
   "source": [
    "**Python pass statement**\n",
    "\n",
    "1.In Python programming, pass is a null statement. The difference between a comment and pass statement in Python is that, while the interpreter ignores a comment entirely, pass is not ignored.\n",
    "\n",
    "2.However, nothing happens when pass is executed. It results into no operation (NOP)."
   ]
  },
  {
   "cell_type": "code",
   "execution_count": 22,
   "metadata": {},
   "outputs": [],
   "source": [
    "# pass is just a placeholder for\n",
    "# functionality to be added later.\n",
    "sequence = {'p', 'a', 's', 's'}\n",
    "for val in sequence:\n",
    "    pass"
   ]
  },
  {
   "cell_type": "code",
   "execution_count": 23,
   "metadata": {},
   "outputs": [],
   "source": [
    "def function(args):\n",
    "    pass\n",
    "class example:\n",
    "    pass"
   ]
  },
  {
   "cell_type": "markdown",
   "metadata": {},
   "source": [
    "**Examples**"
   ]
  },
  {
   "cell_type": "code",
   "execution_count": 24,
   "metadata": {},
   "outputs": [
    {
     "name": "stdout",
     "output_type": "stream",
     "text": [
      "Enter a vowel: e\n",
      "Thank you!\n"
     ]
    }
   ],
   "source": [
    "# Program to illustrate a loop with condition in the middle. \n",
    "# Take input from the user untill a vowel is entered\n",
    "vowels = \"aeiouAEIOU\"\n",
    "# infinite loop\n",
    "while True:\n",
    "    v = input(\"Enter a vowel: \")\n",
    "    # condition in the middle\n",
    "    if v in vowels:\n",
    "        break\n",
    "    print(\"That is not a vowel. Try again!\")\n",
    "print(\"Thank you!\")"
   ]
  },
  {
   "cell_type": "code",
   "execution_count": 25,
   "metadata": {},
   "outputs": [
    {
     "name": "stdout",
     "output_type": "stream",
     "text": [
      "Press enter to roll the dice5\n",
      "You got 2\n",
      "Roll again?(y/n) 2\n",
      "Press enter to roll the dicen\n",
      "You got 1\n",
      "Roll again?(y/n) n\n"
     ]
    }
   ],
   "source": [
    "# Python program to illustrate a loop with condition at the bottom\n",
    "# Roll a dice untill user chooses to exit\n",
    "# import random module\n",
    "import random\n",
    "while True:\n",
    "    input(\"Press enter to roll the dice\")\n",
    "    # get a number between 1 to 6\n",
    "    num = random.randint(1,6)\n",
    "    print(\"You got\",num)\n",
    "    option = input(\"Roll again?(y/n) \")\n",
    "    # condition\n",
    "    if option == 'n':\n",
    "        break"
   ]
  },
  {
   "cell_type": "code",
   "execution_count": 26,
   "metadata": {},
   "outputs": [
    {
     "name": "stdout",
     "output_type": "stream",
     "text": [
      "Enter a number: 6\n",
      "The factorial of 6 is 720\n"
     ]
    }
   ],
   "source": [
    "# Python program to find the factorial of a number provided by the user.\n",
    "\n",
    "num = int(input(\"Enter a number: \"))\n",
    "\n",
    "factorial = 1\n",
    "\n",
    "# check if the number is negative, positive or zero\n",
    "if num < 0:\n",
    "    print(\"Sorry, factorial does not exist for negative numbers\")\n",
    "elif num == 0:\n",
    "    print(\"The factorial of 0 is 1\")\n",
    "else:\n",
    "    for i in range(1,num + 1):\n",
    "        factorial = factorial*i\n",
    "    print(\"The factorial of\",num,\"is\",factorial)"
   ]
  },
  {
   "cell_type": "code",
   "execution_count": null,
   "metadata": {},
   "outputs": [],
   "source": []
  }
 ],
 "metadata": {
  "kernelspec": {
   "display_name": "Python 3",
   "language": "python",
   "name": "python3"
  },
  "language_info": {
   "codemirror_mode": {
    "name": "ipython",
    "version": 3
   },
   "file_extension": ".py",
   "mimetype": "text/x-python",
   "name": "python",
   "nbconvert_exporter": "python",
   "pygments_lexer": "ipython3",
   "version": "3.8.3"
  }
 },
 "nbformat": 4,
 "nbformat_minor": 4
}
