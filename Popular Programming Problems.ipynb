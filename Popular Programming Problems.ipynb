{
 "cells": [
  {
   "cell_type": "markdown",
   "metadata": {},
   "source": [
    "**1.Add two numbers which you take as an input from user**"
   ]
  },
  {
   "cell_type": "code",
   "execution_count": 2,
   "metadata": {},
   "outputs": [
    {
     "name": "stdout",
     "output_type": "stream",
     "text": [
      "Enter first number: 4\n",
      "Enter second number: 5.8\n",
      "Sum:  9.8\n"
     ]
    }
   ],
   "source": [
    "a=float(input(\"Enter first number: \"))\n",
    "b=float(input(\"Enter second number: \"))\n",
    "\n",
    "s=a+b\n",
    "\n",
    "print('Sum: ', s)"
   ]
  },
  {
   "cell_type": "markdown",
   "metadata": {},
   "source": [
    "**2. Take an integer as an input from the user and print your name that many times**"
   ]
  },
  {
   "cell_type": "code",
   "execution_count": 3,
   "metadata": {},
   "outputs": [
    {
     "name": "stdout",
     "output_type": "stream",
     "text": [
      "Number of times: 2\n",
      "Sarthak\n",
      "Sarthak\n"
     ]
    }
   ],
   "source": [
    "num= int(input(\"Number of times: \"))\n",
    "\n",
    "for i in range(num):\n",
    "    print('Sarthak')"
   ]
  },
  {
   "cell_type": "markdown",
   "metadata": {},
   "source": [
    "**3. The same thing as before but, this time using a while loop instead of for loop**"
   ]
  },
  {
   "cell_type": "code",
   "execution_count": 5,
   "metadata": {},
   "outputs": [
    {
     "name": "stdout",
     "output_type": "stream",
     "text": [
      "Number of times: 4\n",
      "Sarthak\n",
      "Sarthak\n",
      "Sarthak\n",
      "Sarthak\n"
     ]
    }
   ],
   "source": [
    "num= int(input(\"Number of times: \"))\n",
    "\n",
    "count=0\n",
    "while count<num:\n",
    "    print('Sarthak')\n",
    "    \n",
    "    count += 1"
   ]
  },
  {
   "cell_type": "markdown",
   "metadata": {},
   "source": [
    "**4. The same thing as before but, this time using a while loop instead of for loop, change the initialization of count**"
   ]
  },
  {
   "cell_type": "code",
   "execution_count": 6,
   "metadata": {},
   "outputs": [
    {
     "name": "stdout",
     "output_type": "stream",
     "text": [
      "Number of times: 4\n",
      "Sarthak\n",
      "Sarthak\n",
      "Sarthak\n",
      "Sarthak\n"
     ]
    }
   ],
   "source": [
    "num= int(input(\"Number of times: \"))\n",
    "\n",
    "count = 1\n",
    "while count <= num:\n",
    "    print('Sarthak')\n",
    "    \n",
    "    count += 1"
   ]
  },
  {
   "cell_type": "markdown",
   "metadata": {},
   "source": [
    "**5. Display the multilication table of the number input by the user**"
   ]
  },
  {
   "cell_type": "code",
   "execution_count": 7,
   "metadata": {},
   "outputs": [
    {
     "name": "stdout",
     "output_type": "stream",
     "text": [
      "Times table: 5\n",
      "1 x 5 = 5\n",
      "2 x 5 = 10\n",
      "3 x 5 = 15\n",
      "4 x 5 = 20\n",
      "5 x 5 = 25\n",
      "6 x 5 = 30\n",
      "7 x 5 = 35\n",
      "8 x 5 = 40\n",
      "9 x 5 = 45\n",
      "10 x 5 = 50\n"
     ]
    }
   ],
   "source": [
    "num = int(input(\"Times table: \"))\n",
    "\n",
    "for i in range(1, 11):\n",
    "    print(i, 'x', num, '=', i*num)\n"
   ]
  },
  {
   "cell_type": "markdown",
   "metadata": {},
   "source": [
    "**6. Take as input 2 numbers, then take in an operator and output the result**"
   ]
  },
  {
   "cell_type": "code",
   "execution_count": 9,
   "metadata": {},
   "outputs": [
    {
     "name": "stdout",
     "output_type": "stream",
     "text": [
      "Enter first number: 6\n",
      "Enter second number: 3\n",
      "Operator: *\n",
      "Multiply:  18.0\n"
     ]
    }
   ],
   "source": [
    "a = float(input(\"Enter first number: \"))\n",
    "b = float(input(\"Enter second number: \"))\n",
    "\n",
    "operator = input('Operator: ')\n",
    "\n",
    "if operator == '+':\n",
    "    print('Add: ', a+b)\n",
    "elif operator == '-':\n",
    "    print('Subtract: ', a-b)\n",
    "elif operator == '*':\n",
    "    print('Multiply: ', a*b)\n",
    "elif operator == '/':\n",
    "    print('Divide: ', a/b)"
   ]
  },
  {
   "cell_type": "markdown",
   "metadata": {},
   "source": [
    "**7. Reverse a string without using [::-1]**"
   ]
  },
  {
   "cell_type": "code",
   "execution_count": 12,
   "metadata": {},
   "outputs": [
    {
     "name": "stdout",
     "output_type": "stream",
     "text": [
      "Enter a string: Malayalam\n",
      "Original:  Malayalam\n",
      "Reversed:  malayalaM\n"
     ]
    }
   ],
   "source": [
    "original = input('Enter a string: ')\n",
    "\n",
    "index = len(original) - 1\n",
    "reversed_string = ''\n",
    "\n",
    "while index >= 0:\n",
    "    reversed_string += original[index]\n",
    "    \n",
    "    index = index - 1\n",
    "    \n",
    "print('Original: ', original)\n",
    "print('Reversed: ', reversed_string)"
   ]
  },
  {
   "cell_type": "markdown",
   "metadata": {},
   "source": [
    "**8. find whether a string is palindrome or not:**"
   ]
  },
  {
   "cell_type": "code",
   "execution_count": 17,
   "metadata": {},
   "outputs": [
    {
     "name": "stdout",
     "output_type": "stream",
     "text": [
      "Enter a string: malayalam\n",
      "This string is a palindrome:  malayalam\n"
     ]
    }
   ],
   "source": [
    "original = input('Enter a string: ')\n",
    "\n",
    "index = len(original) - 1\n",
    "reversed_string = ''\n",
    "\n",
    "while index >= 0:\n",
    "    reversed_string += original[index]\n",
    "    \n",
    "    index = index - 1\n",
    "    \n",
    "if original == reversed_string:\n",
    "    print('This string is a palindrome: ', original)\n",
    "else:\n",
    "    print('This string is not palindrome: ', original)"
   ]
  },
  {
   "cell_type": "markdown",
   "metadata": {},
   "source": [
    "**9. Find length of the list without using len() operator**"
   ]
  },
  {
   "cell_type": "code",
   "execution_count": 18,
   "metadata": {},
   "outputs": [],
   "source": [
    "a_list = [2, 5, 7, 8, 2, 6, 9, 0, 3]"
   ]
  },
  {
   "cell_type": "code",
   "execution_count": 19,
   "metadata": {},
   "outputs": [
    {
     "data": {
      "text/plain": [
       "9"
      ]
     },
     "execution_count": 19,
     "metadata": {},
     "output_type": "execute_result"
    }
   ],
   "source": [
    "count=0\n",
    "\n",
    "for element in a_list:\n",
    "    count = count + 1\n",
    "    \n",
    "count"
   ]
  },
  {
   "cell_type": "markdown",
   "metadata": {},
   "source": [
    "**10. Find the maximum and minimum element in the list:**"
   ]
  },
  {
   "cell_type": "code",
   "execution_count": 20,
   "metadata": {},
   "outputs": [
    {
     "data": {
      "text/plain": [
       "9"
      ]
     },
     "execution_count": 20,
     "metadata": {},
     "output_type": "execute_result"
    }
   ],
   "source": [
    "maximum = a_list[0]\n",
    "\n",
    "for element in a_list:\n",
    "    if element > maximum:\n",
    "        maximum = element\n",
    "        \n",
    "maximum        "
   ]
  },
  {
   "cell_type": "code",
   "execution_count": 21,
   "metadata": {},
   "outputs": [
    {
     "data": {
      "text/plain": [
       "0"
      ]
     },
     "execution_count": 21,
     "metadata": {},
     "output_type": "execute_result"
    }
   ],
   "source": [
    "minimum = a_list[0]\n",
    "\n",
    "for element in a_list:\n",
    "    if element < minimum:\n",
    "        minimum = element\n",
    "        \n",
    "minimum"
   ]
  },
  {
   "cell_type": "markdown",
   "metadata": {},
   "source": [
    "**11. Find the average of all the numbers in the list without using sum() or len()**"
   ]
  },
  {
   "cell_type": "code",
   "execution_count": 22,
   "metadata": {},
   "outputs": [
    {
     "name": "stdout",
     "output_type": "stream",
     "text": [
      "Average:  4.666666666666667\n"
     ]
    }
   ],
   "source": [
    "count = 0\n",
    "total = 0\n",
    "for element in a_list:\n",
    "    count += 1\n",
    "    total += element\n",
    "    \n",
    "print('Average: ', total/count)"
   ]
  },
  {
   "cell_type": "code",
   "execution_count": 23,
   "metadata": {},
   "outputs": [
    {
     "data": {
      "text/plain": [
       "4.666666666666667"
      ]
     },
     "execution_count": 23,
     "metadata": {},
     "output_type": "execute_result"
    }
   ],
   "source": [
    "sum(a_list)/len(a_list)"
   ]
  },
  {
   "cell_type": "markdown",
   "metadata": {},
   "source": [
    "**12. For a number input find whether it is divisble by 5, 7 or both. Test with 10, 21 and 35**"
   ]
  },
  {
   "cell_type": "code",
   "execution_count": 27,
   "metadata": {},
   "outputs": [
    {
     "name": "stdout",
     "output_type": "stream",
     "text": [
      "Enter an integer: 35\n",
      "The number 35 is divisible by 5 \n"
     ]
    }
   ],
   "source": [
    "num = int(input(\"Enter an integer: \"))\n",
    "\n",
    "if num % 5 == 0:\n",
    "    print('The number %s is divisible by 5 ' % num)\n",
    "elif num % 7 == 0:\n",
    "    print('The number %s is divisible by 7 ' % num)\n",
    "elif num % 5 == 0 and num % 7 == 0:\n",
    "    print('The number %s is divisible by both 5 and 7 ' % num)   "
   ]
  },
  {
   "cell_type": "markdown",
   "metadata": {},
   "source": [
    "**Need to check number is divisible by 5 and 7 first and then individually**"
   ]
  },
  {
   "cell_type": "code",
   "execution_count": 28,
   "metadata": {},
   "outputs": [
    {
     "name": "stdout",
     "output_type": "stream",
     "text": [
      "Enter an integer: 35\n",
      "The number 35 is divisible by both 5 and 7 \n"
     ]
    }
   ],
   "source": [
    "num = int(input(\"Enter an integer: \"))\n",
    "\n",
    "if num % 5 == 0 and num % 7 == 0:\n",
    "    print('The number %s is divisible by both 5 and 7 ' % num) \n",
    "elif num % 7 == 0:\n",
    "    print('The number %s is divisible by 7 ' % num)\n",
    "elif num % 5 == 0:\n",
    "    print('The number %s is divisible by 5 ' % num)"
   ]
  },
  {
   "cell_type": "markdown",
   "metadata": {},
   "source": [
    "**13. Find the number of times letter \"e\" occurs in the inut statement**"
   ]
  },
  {
   "cell_type": "code",
   "execution_count": 29,
   "metadata": {},
   "outputs": [
    {
     "name": "stdout",
     "output_type": "stream",
     "text": [
      "Enter a sentence: eeeee\n",
      "Total number of the letter e:  5\n"
     ]
    }
   ],
   "source": [
    "sentence = input('Enter a sentence: ')\n",
    "\n",
    "count_e=0\n",
    "\n",
    "for character in sentence:\n",
    "    if character == 'e' :\n",
    "        count_e += 1\n",
    "        \n",
    "print('Total number of the letter e: ', count_e)"
   ]
  },
  {
   "cell_type": "markdown",
   "metadata": {},
   "source": [
    "## Thank You! Happy Learning!"
   ]
  }
 ],
 "metadata": {
  "kernelspec": {
   "display_name": "Python 3",
   "language": "python",
   "name": "python3"
  },
  "language_info": {
   "codemirror_mode": {
    "name": "ipython",
    "version": 3
   },
   "file_extension": ".py",
   "mimetype": "text/x-python",
   "name": "python",
   "nbconvert_exporter": "python",
   "pygments_lexer": "ipython3",
   "version": "3.8.3"
  }
 },
 "nbformat": 4,
 "nbformat_minor": 2
}
