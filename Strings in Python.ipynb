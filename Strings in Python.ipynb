{
 "cells": [
  {
   "cell_type": "markdown",
   "metadata": {},
   "source": [
    "## Strings in Python\n",
    "***"
   ]
  },
  {
   "cell_type": "code",
   "execution_count": 2,
   "metadata": {},
   "outputs": [
    {
     "name": "stdout",
     "output_type": "stream",
     "text": [
      "Hello\n",
      "Hello\n",
      "Hello\n",
      "Hello, welcome to\n",
      "           data\n",
      "           enthusiast's python basics\n"
     ]
    }
   ],
   "source": [
    "# all of the following are equivalent\n",
    "my_string = 'Hello'\n",
    "print(my_string)\n",
    "\n",
    "my_string = \"Hello\"\n",
    "print(my_string)\n",
    "\n",
    "my_string = '''Hello'''\n",
    "print(my_string)\n",
    "\n",
    "# triple quotes string can extend multiple lines\n",
    "my_string = \"\"\"Hello, welcome to\n",
    "           data\n",
    "           enthusiast's python basics\"\"\"\n",
    "print(my_string)"
   ]
  },
  {
   "cell_type": "code",
   "execution_count": 3,
   "metadata": {},
   "outputs": [
    {
     "name": "stdout",
     "output_type": "stream",
     "text": [
      "str =  data science\n",
      "str[0] =  d\n",
      "str[-1] =  e\n",
      "str[1:5] =  ata \n",
      "str[5:-2] =  scien\n"
     ]
    }
   ],
   "source": [
    "str = 'data science'\n",
    "print('str = ', str)\n",
    "\n",
    "#first character\n",
    "print('str[0] = ', str[0])\n",
    "\n",
    "#last character\n",
    "print('str[-1] = ', str[-1])\n",
    "\n",
    "#slicing 2nd to 5th character\n",
    "print('str[1:5] = ', str[1:5])\n",
    "\n",
    "#slicing 6th to 2nd last character\n",
    "print('str[5:-2] = ', str[5:-2])"
   ]
  },
  {
   "cell_type": "markdown",
   "metadata": {},
   "source": [
    "<h3>Strings are immutable </h3>\n",
    "\n",
    "Strings are immutable. This means that elements of a string cannot be changed once it has been assigned. We can simply reassign different strings to the same name."
   ]
  },
  {
   "cell_type": "code",
   "execution_count": null,
   "metadata": {},
   "outputs": [],
   "source": [
    "# do not run this\n",
    "# my_string = 'data science'\n",
    "# my_string[5] = 'a'"
   ]
  },
  {
   "cell_type": "code",
   "execution_count": 5,
   "metadata": {},
   "outputs": [],
   "source": [
    "my_string = 'mumbai'\n",
    "#my_string[5] = 'a'"
   ]
  },
  {
   "cell_type": "markdown",
   "metadata": {},
   "source": [
    "We cannot delete or remove characters from a string. But deleting the string entirely is possible using the keyword del."
   ]
  },
  {
   "cell_type": "code",
   "execution_count": 7,
   "metadata": {},
   "outputs": [],
   "source": [
    "# del my_string[1]"
   ]
  },
  {
   "cell_type": "code",
   "execution_count": 9,
   "metadata": {},
   "outputs": [],
   "source": [
    "# del my_string\n",
    "# my_string"
   ]
  },
  {
   "cell_type": "markdown",
   "metadata": {},
   "source": [
    "## Python String Operations"
   ]
  },
  {
   "cell_type": "code",
   "execution_count": 10,
   "metadata": {},
   "outputs": [
    {
     "name": "stdout",
     "output_type": "stream",
     "text": [
      "str1 + str2 =  Welcome Coursemates !\n",
      "str1 * 3 = Welcome Welcome Welcome \n"
     ]
    }
   ],
   "source": [
    "str1 = 'Welcome '\n",
    "str2 ='Coursemates !'\n",
    "\n",
    "# using +\n",
    "print('str1 + str2 = ', str1 + str2)\n",
    "\n",
    "# using *\n",
    "print('str1 * 3 =', str1 * 3)"
   ]
  },
  {
   "cell_type": "markdown",
   "metadata": {},
   "source": [
    "Writing two string literals together also concatenates them like + operator.\n",
    "\n",
    "If we want to concatenate strings in different lines, we can use parentheses."
   ]
  },
  {
   "cell_type": "code",
   "execution_count": 11,
   "metadata": {},
   "outputs": [
    {
     "data": {
      "text/plain": [
       "'Practice More!'"
      ]
     },
     "execution_count": 11,
     "metadata": {},
     "output_type": "execute_result"
    }
   ],
   "source": [
    "'Practice ''More!'"
   ]
  },
  {
   "cell_type": "code",
   "execution_count": 12,
   "metadata": {},
   "outputs": [
    {
     "data": {
      "text/plain": [
       "'More you do More you know'"
      ]
     },
     "execution_count": 12,
     "metadata": {},
     "output_type": "execute_result"
    }
   ],
   "source": [
    "s = ('More you do '\n",
    "     'More you know')\n",
    "s"
   ]
  },
  {
   "cell_type": "code",
   "execution_count": 13,
   "metadata": {},
   "outputs": [
    {
     "data": {
      "text/plain": [
       "21"
      ]
     },
     "execution_count": 13,
     "metadata": {},
     "output_type": "execute_result"
    }
   ],
   "source": [
    "len('How was sample test !')"
   ]
  },
  {
   "cell_type": "code",
   "execution_count": 14,
   "metadata": {},
   "outputs": [
    {
     "name": "stdout",
     "output_type": "stream",
     "text": [
      "21 letters found\n"
     ]
    }
   ],
   "source": [
    "# this is just a option for len() function\n",
    "count = 0\n",
    "for letter in 'How was sample test !':\n",
    "        count += 1\n",
    "print(count,'letters found')"
   ]
  },
  {
   "cell_type": "markdown",
   "metadata": {},
   "source": [
    "## String Membership Opertor"
   ]
  },
  {
   "cell_type": "code",
   "execution_count": 15,
   "metadata": {},
   "outputs": [
    {
     "data": {
      "text/plain": [
       "True"
      ]
     },
     "execution_count": 15,
     "metadata": {},
     "output_type": "execute_result"
    }
   ],
   "source": [
    "'at'  in 'battle'"
   ]
  },
  {
   "cell_type": "code",
   "execution_count": 16,
   "metadata": {},
   "outputs": [
    {
     "data": {
      "text/plain": [
       "False"
      ]
     },
     "execution_count": 16,
     "metadata": {},
     "output_type": "execute_result"
    }
   ],
   "source": [
    "'au' in 'opaque'"
   ]
  },
  {
   "cell_type": "markdown",
   "metadata": {},
   "source": [
    "## Escape sequences"
   ]
  },
  {
   "cell_type": "code",
   "execution_count": null,
   "metadata": {},
   "outputs": [],
   "source": [
    "print(\"He said, \"What's there?\"\")\n",
    "      \n",
    "# you know what I mean .. Hahaha.. \n",
    "# please don't confuse python !"
   ]
  },
  {
   "cell_type": "code",
   "execution_count": null,
   "metadata": {},
   "outputs": [],
   "source": [
    "print('He said, \"What's there?\"')"
   ]
  },
  {
   "cell_type": "code",
   "execution_count": 17,
   "metadata": {},
   "outputs": [
    {
     "name": "stdout",
     "output_type": "stream",
     "text": [
      "He said, \"What's there?\"\n",
      "He said, \"What's there?\"\n",
      "He said, \"What's there?\"\n"
     ]
    }
   ],
   "source": [
    "# using triple quotes\n",
    "print('''He said, \"What's there?\"''')\n",
    "\n",
    "# escaping single quotes\n",
    "print('He said, \"What\\'s there?\"')\n",
    "\n",
    "# escaping double quotes\n",
    "print(\"He said, \\\"What's there?\\\"\")"
   ]
  },
  {
   "cell_type": "markdown",
   "metadata": {},
   "source": [
    "EscapeSequence Description\n",
    "\n",
    "\\newline Backslash and newline ignored \\ Backslash ' Single quote \" Double quote \\a ASCII Bell\n",
    "\n",
    "\\b ASCII Backspace \\f ASCII Formfeed \\n ASCII Linefeed \\r ASCII Carriage Return \\t ASCII Horizontal Tab \\v ASCII Vertical Tab \\ooo Character with octal value ooo \\xHH Character with hexadecimal value HH"
   ]
  },
  {
   "cell_type": "code",
   "execution_count": 18,
   "metadata": {},
   "outputs": [
    {
     "name": "stdout",
     "output_type": "stream",
     "text": [
      "C:\\Python3.7x\\Lib\n",
      "This is printed\n",
      "in two lines\n",
      "This is HEX representation\n"
     ]
    }
   ],
   "source": [
    "print(\"C:\\\\Python3.7x\\\\Lib\")\n",
    "print(\"This is printed\\nin two lines\")\n",
    "print(\"This is \\x48\\x45\\x58 representation\")\n",
    "\n",
    "# if you don't understand the output please read again what is written above markdown !\n",
    "# what are the characters that are mentioned"
   ]
  },
  {
   "cell_type": "code",
   "execution_count": 19,
   "metadata": {},
   "outputs": [
    {
     "name": "stdout",
     "output_type": "stream",
     "text": [
      "This is a \n",
      "good example\n",
      "This is \\x61 \\ngood example\n"
     ]
    }
   ],
   "source": [
    "print(\"This is \\x61 \\ngood example\")\n",
    "print(r\"This is \\x61 \\ngood example\")\n",
    "\n",
    "# what is role of r in here? \n",
    "# research about it interesting facts..."
   ]
  },
  {
   "cell_type": "markdown",
   "metadata": {},
   "source": [
    "## format() Method"
   ]
  },
  {
   "cell_type": "code",
   "execution_count": 20,
   "metadata": {},
   "outputs": [
    {
     "name": "stdout",
     "output_type": "stream",
     "text": [
      "\n",
      "--- Default Order ---\n",
      "Data Science, Machine Learning and Artificial Intelligence\n",
      "\n",
      "--- Positional Order ---\n",
      "Machine Learning, Data Science and Artificial Intelligence\n",
      "\n",
      "--- Keyword Order ---\n",
      "Artificial Intelligence, Data Science and Machine Learning\n"
     ]
    }
   ],
   "source": [
    "# default(implicit) order\n",
    "default_order = \"{}, {} and {}\".format('Data Science','Machine Learning','Artificial Intelligence')\n",
    "print('\\n--- Default Order ---')\n",
    "print(default_order)\n",
    "\n",
    "# order using positional argument\n",
    "positional_order = \"{1}, {0} and {2}\".format('Data Science','Machine Learning','Artificial Intelligence')\n",
    "print('\\n--- Positional Order ---')\n",
    "print(positional_order)\n",
    "\n",
    "# order using keyword argument\n",
    "keyword_order = \"{a}, {d} and {m}\".format(d='Data Science', m='Machine Learning', a='Artificial Intelligence')\n",
    "print('\\n--- Keyword Order ---') \n",
    "print(keyword_order)"
   ]
  },
  {
   "cell_type": "code",
   "execution_count": 21,
   "metadata": {},
   "outputs": [
    {
     "data": {
      "text/plain": [
       "'Binary representation of 12 is 1100'"
      ]
     },
     "execution_count": 21,
     "metadata": {},
     "output_type": "execute_result"
    }
   ],
   "source": [
    "# formatting integers and converting it in single line\n",
    "\"Binary representation of {0} is {0:b}\".format(12)\n"
   ]
  },
  {
   "cell_type": "code",
   "execution_count": 22,
   "metadata": {},
   "outputs": [
    {
     "data": {
      "text/plain": [
       "'One third is: 0.333'"
      ]
     },
     "execution_count": 22,
     "metadata": {},
     "output_type": "execute_result"
    }
   ],
   "source": [
    "# round off at 3 decimal points\n",
    "\"One third is: {0:.3f}\".format(1/3)  "
   ]
  },
  {
   "cell_type": "code",
   "execution_count": 23,
   "metadata": {},
   "outputs": [
    {
     "data": {
      "text/plain": [
       "'Exponent representation: 1.566345e+03'"
      ]
     },
     "execution_count": 23,
     "metadata": {},
     "output_type": "execute_result"
    }
   ],
   "source": [
    "# formatting floats\n",
    "\"Exponent representation: {0:e}\".format(1566.345)"
   ]
  },
  {
   "cell_type": "code",
   "execution_count": 24,
   "metadata": {},
   "outputs": [
    {
     "data": {
      "text/plain": [
       "'|butter    |  bread   |       ham|'"
      ]
     },
     "execution_count": 24,
     "metadata": {},
     "output_type": "execute_result"
    }
   ],
   "source": [
    "# string alignment \n",
    "# observe carefully\n",
    "\"|{:<10}|{:^10}|{:>10}|\".format('butter','bread','ham')"
   ]
  },
  {
   "cell_type": "code",
   "execution_count": 25,
   "metadata": {},
   "outputs": [
    {
     "name": "stdout",
     "output_type": "stream",
     "text": [
      "The value of x is 12.346\n",
      "The value of x is 12.3457\n"
     ]
    }
   ],
   "source": [
    "x = 12.3456789\n",
    "print('The value of x is %1.3f' %x)  # upto 2 decimals and rounf off\n",
    "print('The value of x is %1.4f' %x)  # upto 4 decimals and rounf off\n",
    "\n",
    "# play with this code by doing changes and explore new outcomes"
   ]
  },
  {
   "cell_type": "markdown",
   "metadata": {},
   "source": [
    "## Thank You! Happy Learning!"
   ]
  }
 ],
 "metadata": {
  "kernelspec": {
   "display_name": "Python 3",
   "language": "python",
   "name": "python3"
  },
  "language_info": {
   "codemirror_mode": {
    "name": "ipython",
    "version": 3
   },
   "file_extension": ".py",
   "mimetype": "text/x-python",
   "name": "python",
   "nbconvert_exporter": "python",
   "pygments_lexer": "ipython3",
   "version": "3.8.3"
  }
 },
 "nbformat": 4,
 "nbformat_minor": 4
}
