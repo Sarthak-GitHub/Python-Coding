{
 "cells": [
  {
   "cell_type": "markdown",
   "metadata": {},
   "source": [
    "### Constant Time Operation O(1)"
   ]
  },
  {
   "cell_type": "markdown",
   "metadata": {},
   "source": [
    "### Write a function which will give addition, multiplication and quotient"
   ]
  },
  {
   "cell_type": "code",
   "execution_count": 1,
   "metadata": {},
   "outputs": [],
   "source": [
    "def simpleFunction (n:int):\n",
    "    a = 9\n",
    "    b = 3\n",
    "    \n",
    "    s = a + b + n\n",
    "    product = a * b * n\n",
    "    quotient = a * n / b\n",
    "    \n",
    "    print(\"The sum is: %i\" %s  )    \n",
    "    print(\"The product is: %i\" %product)\n",
    "    print(\"The quotient is: %i\" %quotient)"
   ]
  },
  {
   "cell_type": "code",
   "execution_count": 2,
   "metadata": {},
   "outputs": [
    {
     "name": "stdout",
     "output_type": "stream",
     "text": [
      "The sum is: 22\n",
      "The product is: 270\n",
      "The quotient is: 30\n"
     ]
    }
   ],
   "source": [
    "simpleFunction(10)"
   ]
  },
  {
   "cell_type": "markdown",
   "metadata": {},
   "source": [
    "### Order of N O(n)\n",
    "### Write two function, one using for loop print square of number upto 'n' from 0 and second using while loop"
   ]
  },
  {
   "cell_type": "code",
   "execution_count": 3,
   "metadata": {},
   "outputs": [],
   "source": [
    "def singleForLoop(n:int):\n",
    "    for i in range(0,n):\n",
    "        print(\"Square of %i  is %i\" %(i ,(i*i)))"
   ]
  },
  {
   "cell_type": "code",
   "execution_count": 4,
   "metadata": {},
   "outputs": [
    {
     "name": "stdout",
     "output_type": "stream",
     "text": [
      "Square of 0  is 0\n",
      "Square of 1  is 1\n",
      "Square of 2  is 4\n",
      "Square of 3  is 9\n",
      "Square of 4  is 16\n"
     ]
    }
   ],
   "source": [
    "singleForLoop(5)"
   ]
  },
  {
   "cell_type": "code",
   "execution_count": 5,
   "metadata": {},
   "outputs": [],
   "source": [
    "def singleWhileLoop(n:int):\n",
    "    i = 0\n",
    "    while(i < n): \n",
    "        print(\"Square of %i  is %i\" %(i ,(i*i)))\n",
    "        i = i + 1\n",
    "        "
   ]
  },
  {
   "cell_type": "code",
   "execution_count": 6,
   "metadata": {},
   "outputs": [
    {
     "name": "stdout",
     "output_type": "stream",
     "text": [
      "Square of 0  is 0\n",
      "Square of 1  is 1\n",
      "Square of 2  is 4\n",
      "Square of 3  is 9\n",
      "Square of 4  is 16\n"
     ]
    }
   ],
   "source": [
    "singleWhileLoop(5)"
   ]
  },
  {
   "cell_type": "markdown",
   "metadata": {},
   "source": [
    "### Order of N O(n^2)"
   ]
  },
  {
   "cell_type": "markdown",
   "metadata": {},
   "source": [
    "### Write a prohram to give multiplication of table of 1 to 5 upto 5 multiples using nested for loop."
   ]
  },
  {
   "cell_type": "code",
   "execution_count": 7,
   "metadata": {},
   "outputs": [],
   "source": [
    "def nestedForLoops(n:int):\n",
    "    for i in range(1,n):\n",
    "        for j in range(1,n):\n",
    "              print(\"The product of %i and %i is %i\" %(i,j,i*j))"
   ]
  },
  {
   "cell_type": "code",
   "execution_count": 8,
   "metadata": {},
   "outputs": [
    {
     "name": "stdout",
     "output_type": "stream",
     "text": [
      "The product of 1 and 1 is 1\n",
      "The product of 1 and 2 is 2\n",
      "The product of 1 and 3 is 3\n",
      "The product of 1 and 4 is 4\n",
      "The product of 1 and 5 is 5\n",
      "The product of 2 and 1 is 2\n",
      "The product of 2 and 2 is 4\n",
      "The product of 2 and 3 is 6\n",
      "The product of 2 and 4 is 8\n",
      "The product of 2 and 5 is 10\n",
      "The product of 3 and 1 is 3\n",
      "The product of 3 and 2 is 6\n",
      "The product of 3 and 3 is 9\n",
      "The product of 3 and 4 is 12\n",
      "The product of 3 and 5 is 15\n",
      "The product of 4 and 1 is 4\n",
      "The product of 4 and 2 is 8\n",
      "The product of 4 and 3 is 12\n",
      "The product of 4 and 4 is 16\n",
      "The product of 4 and 5 is 20\n",
      "The product of 5 and 1 is 5\n",
      "The product of 5 and 2 is 10\n",
      "The product of 5 and 3 is 15\n",
      "The product of 5 and 4 is 20\n",
      "The product of 5 and 5 is 25\n"
     ]
    }
   ],
   "source": [
    "nestedForLoops(6)"
   ]
  },
  {
   "cell_type": "markdown",
   "metadata": {},
   "source": [
    "## Thank You! Happy Learning!"
   ]
  }
 ],
 "metadata": {
  "kernelspec": {
   "display_name": "Python 3",
   "language": "python",
   "name": "python3"
  },
  "language_info": {
   "codemirror_mode": {
    "name": "ipython",
    "version": 3
   },
   "file_extension": ".py",
   "mimetype": "text/x-python",
   "name": "python",
   "nbconvert_exporter": "python",
   "pygments_lexer": "ipython3",
   "version": "3.8.3"
  }
 },
 "nbformat": 4,
 "nbformat_minor": 2
}
